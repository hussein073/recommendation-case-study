{
 "cells": [
  {
   "cell_type": "code",
   "execution_count": 2,
   "metadata": {},
   "outputs": [],
   "source": [
    "from surprise.prediction_algorithms import knns\n",
    "from surprise.similarities import cosine, msd, pearson\n",
    "from surprise import accuracy\n",
    "from surprise.model_selection import cross_validate, GridSearchCV\n",
    "from surprise.prediction_algorithms import SVD, KNNWithMeans, KNNBasic, KNNBaseline\n",
    "\n",
    "from pyspark.sql import SparkSession\n",
    "from pyspark.ml.evaluation import RegressionEvaluator\n",
    "from pyspark.ml.recommendation import ALS, ALSModel"
   ]
  },
  {
   "cell_type": "code",
   "execution_count": 3,
   "metadata": {},
   "outputs": [],
   "source": [
    "spark = SparkSession.builder.master('local').getOrCreate() "
   ]
  },
  {
   "cell_type": "code",
   "execution_count": 15,
   "metadata": {},
   "outputs": [],
   "source": [
    "ratings = spark.read.json('data/ratings.json')#, schema=schema)"
   ]
  },
  {
   "cell_type": "code",
   "execution_count": 16,
   "metadata": {},
   "outputs": [
    {
     "data": {
      "text/plain": [
       "[('movie_id', 'bigint'),\n",
       " ('rating', 'bigint'),\n",
       " ('timestamp', 'double'),\n",
       " ('user_id', 'bigint')]"
      ]
     },
     "execution_count": 16,
     "metadata": {},
     "output_type": "execute_result"
    }
   ],
   "source": [
    "ratings.persist()\n",
    "ratings.dtypes"
   ]
  },
  {
   "cell_type": "code",
   "execution_count": 17,
   "metadata": {},
   "outputs": [],
   "source": [
    "als = ALS(maxIter=10,\n",
    "          rank=10,\n",
    "          userCol=\"user_id\", \n",
    "          itemCol=\"movie_id\", \n",
    "          ratingCol=\"rating\")\n",
    "\n",
    "model = als.fit(ratings)"
   ]
  },
  {
   "cell_type": "code",
   "execution_count": 25,
   "metadata": {},
   "outputs": [
    {
     "name": "stdout",
     "output_type": "stream",
     "text": [
      "Root-mean-square error = 0.81684808831793\n"
     ]
    }
   ],
   "source": [
    "predictions = model.transform(ratings)\n",
    "predictions.persist()\n",
    "evaluator = RegressionEvaluator(metricName='rmse',\n",
    "                               labelCol='rating',\n",
    "                               predictionCol='prediction')\n",
    "rmse = evaluator.evaluate(predictions)\n",
    "print(\"Root-mean-square error = \" + str(rmse))"
   ]
  },
  {
   "cell_type": "code",
   "execution_count": 40,
   "metadata": {},
   "outputs": [
    {
     "name": "stdout",
     "output_type": "stream",
     "text": [
      "+--------+------+------------+-------+----------+\n",
      "|movie_id|rating|   timestamp|user_id|prediction|\n",
      "+--------+------+------------+-------+----------+\n",
      "|     148|     5|9.75592024E8|    673| 4.0313516|\n",
      "|     148|     2|9.65634524E8|   4227| 2.0603485|\n",
      "|     148|     4|9.68683753E8|   3184| 3.4506245|\n",
      "|     148|     3| 9.6997537E8|   4784| 2.8815558|\n",
      "|     148|     2|9.74388854E8|   2383|  2.319465|\n",
      "+--------+------+------------+-------+----------+\n",
      "only showing top 5 rows\n",
      "\n"
     ]
    }
   ],
   "source": [
    "predictions.persist()\n",
    "predictions.show(5)"
   ]
  },
  {
   "cell_type": "code",
   "execution_count": 23,
   "metadata": {},
   "outputs": [
    {
     "data": {
      "text/plain": [
       "[Row(_c0='1', _c1=None, _c2='Toy Story (1995)', _c3=None, _c4=\"Animation|Children's|Comedy\"),\n",
       " Row(_c0='2', _c1=None, _c2='Jumanji (1995)', _c3=None, _c4=\"Adventure|Children's|Fantasy\"),\n",
       " Row(_c0='3', _c1=None, _c2='Grumpier Old Men (1995)', _c3=None, _c4='Comedy|Romance'),\n",
       " Row(_c0='4', _c1=None, _c2='Waiting to Exhale (1995)', _c3=None, _c4='Comedy|Drama'),\n",
       " Row(_c0='5', _c1=None, _c2='Father of the Bride Part II (1995)', _c3=None, _c4='Comedy')]"
      ]
     },
     "execution_count": 23,
     "metadata": {},
     "output_type": "execute_result"
    }
   ],
   "source": [
    "header = ['id', 'title']\n",
    "movie_titles = spark.read.csv('data/movies.dat', sep=\":\")\n",
    "movie_titles.head(5)"
   ]
  },
  {
   "cell_type": "code",
   "execution_count": 27,
   "metadata": {},
   "outputs": [
    {
     "data": {
      "text/plain": [
       "[('movie_id', 'bigint'),\n",
       " ('rating', 'double'),\n",
       " ('timestamp', 'double'),\n",
       " ('user_id', 'bigint')]"
      ]
     },
     "execution_count": 27,
     "metadata": {},
     "output_type": "execute_result"
    }
   ],
   "source": [
    "requests = spark.read.json('data/requests.json')\n",
    "requests.dtypes"
   ]
  },
  {
   "cell_type": "code",
   "execution_count": 28,
   "metadata": {},
   "outputs": [
    {
     "name": "stdout",
     "output_type": "stream",
     "text": [
      "+--------+------+------------+-------+\n",
      "|movie_id|rating|   timestamp|user_id|\n",
      "+--------+------+------------+-------+\n",
      "|    2019|   NaN|9.56678777E8|   6040|\n",
      "|     759|   NaN|9.56679248E8|   6040|\n",
      "|    2858|   NaN|9.56679275E8|   6040|\n",
      "|     246|   NaN|9.56679413E8|   6040|\n",
      "|    1617|   NaN|9.56679473E8|   6040|\n",
      "+--------+------+------------+-------+\n",
      "only showing top 5 rows\n",
      "\n"
     ]
    }
   ],
   "source": [
    "requests.show(5)"
   ]
  },
  {
   "cell_type": "code",
   "execution_count": 46,
   "metadata": {},
   "outputs": [],
   "source": [
    "req_predict = model.transform(requests)"
   ]
  },
  {
   "cell_type": "code",
   "execution_count": 47,
   "metadata": {},
   "outputs": [
    {
     "name": "stdout",
     "output_type": "stream",
     "text": [
      "+--------+------+------------+-------+----------+\n",
      "|movie_id|rating|   timestamp|user_id|prediction|\n",
      "+--------+------+------------+-------+----------+\n",
      "|     148|   NaN|9.77959026E8|     53|       NaN|\n",
      "|     148|   NaN|9.76559602E8|   4169| 3.1198802|\n",
      "|     148|   NaN|9.89024856E8|   5333| 2.3704112|\n",
      "|     148|   NaN|9.77005381E8|   4387| 1.8007883|\n",
      "|     148|   NaN|9.66907208E8|   3539| 2.6021094|\n",
      "+--------+------+------------+-------+----------+\n",
      "only showing top 5 rows\n",
      "\n"
     ]
    }
   ],
   "source": [
    "req_predict.show(5)"
   ]
  },
  {
   "cell_type": "code",
   "execution_count": 54,
   "metadata": {},
   "outputs": [
    {
     "name": "stdout",
     "output_type": "stream",
     "text": [
      "+--------+------------+-------+---------+\n",
      "|movie_id|   timestamp|user_id|   rating|\n",
      "+--------+------------+-------+---------+\n",
      "|     148|9.77959026E8|     53|      NaN|\n",
      "|     148|9.76559602E8|   4169|3.1198802|\n",
      "|     148|9.89024856E8|   5333|2.3704112|\n",
      "|     148|9.77005381E8|   4387|1.8007883|\n",
      "|     148|9.66907208E8|   3539|2.6021094|\n",
      "+--------+------------+-------+---------+\n",
      "only showing top 5 rows\n",
      "\n"
     ]
    }
   ],
   "source": [
    "final_requests = req_predict.drop('rating')\n",
    "final_requests = final_requests.withColumnRenamed('prediction','rating')\n",
    "final_requests.show(5)"
   ]
  },
  {
   "cell_type": "code",
   "execution_count": null,
   "metadata": {},
   "outputs": [],
   "source": []
  },
  {
   "cell_type": "code",
   "execution_count": null,
   "metadata": {},
   "outputs": [],
   "source": []
  },
  {
   "cell_type": "code",
   "execution_count": null,
   "metadata": {},
   "outputs": [],
   "source": []
  }
 ],
 "metadata": {
  "kernelspec": {
   "display_name": "learn-env",
   "language": "python",
   "name": "learn-env"
  },
  "language_info": {
   "codemirror_mode": {
    "name": "ipython",
    "version": 3
   },
   "file_extension": ".py",
   "mimetype": "text/x-python",
   "name": "python",
   "nbconvert_exporter": "python",
   "pygments_lexer": "ipython3",
   "version": "3.6.6"
  }
 },
 "nbformat": 4,
 "nbformat_minor": 2
}
