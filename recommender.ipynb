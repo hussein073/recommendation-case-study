{
 "cells": [
  {
   "cell_type": "markdown",
   "metadata": {},
   "source": [
    "## Importing Libraries"
   ]
  },
  {
   "cell_type": "code",
   "execution_count": 1,
   "metadata": {},
   "outputs": [],
   "source": [
    "import numpy as np\n",
    "import pandas as pd\n",
    "from surprise.prediction_algorithms import knns\n",
    "from surprise.similarities import cosine, msd, pearson\n",
    "from surprise import accuracy\n",
    "from surprise.model_selection import cross_validate, GridSearchCV\n",
    "from surprise.prediction_algorithms import SVD, KNNWithMeans, KNNBasic, KNNBaseline\n",
    "from sklearn.preprocessing import OneHotEncoder, StandardScaler\n",
    "\n",
    "from pyspark.sql import SparkSession\n",
    "from pyspark.ml.evaluation import RegressionEvaluator\n",
    "from pyspark.ml.recommendation import ALS, ALSModel"
   ]
  },
  {
   "cell_type": "markdown",
   "metadata": {},
   "source": [
    "### Start Spark Session and reading each of the data files:"
   ]
  },
  {
   "cell_type": "code",
   "execution_count": 2,
   "metadata": {},
   "outputs": [],
   "source": [
    "spark = SparkSession.builder.master('local').getOrCreate() "
   ]
  },
  {
   "cell_type": "code",
   "execution_count": 3,
   "metadata": {},
   "outputs": [],
   "source": [
    "ratings = spark.read.json('data/ratings.json')#, schema=schema)"
   ]
  },
  {
   "cell_type": "code",
   "execution_count": 4,
   "metadata": {},
   "outputs": [
    {
     "data": {
      "text/plain": [
       "[('movie_id', 'bigint'),\n",
       " ('rating', 'bigint'),\n",
       " ('timestamp', 'double'),\n",
       " ('user_id', 'bigint')]"
      ]
     },
     "execution_count": 4,
     "metadata": {},
     "output_type": "execute_result"
    }
   ],
   "source": [
    "ratings.persist()\n",
    "ratings.dtypes"
   ]
  },
  {
   "cell_type": "code",
   "execution_count": 5,
   "metadata": {},
   "outputs": [],
   "source": [
    "# als = ALS(maxIter=10,\n",
    "#           rank=10,\n",
    "#           userCol=\"user_id\", \n",
    "#           itemCol=\"movie_id\", \n",
    "#           ratingCol=\"rating\")\n",
    "\n",
    "#model = als.fit(ratings)"
   ]
  },
  {
   "cell_type": "code",
   "execution_count": 6,
   "metadata": {},
   "outputs": [],
   "source": [
    "# predictions = model.transform(ratings)\n",
    "# predictions.persist()\n",
    "# evaluator = RegressionEvaluator(metricName='rmse',\n",
    "#                                labelCol='rating',\n",
    "#                                predictionCol='prediction')\n",
    "# rmse = evaluator.evaluate(predictions)\n",
    "# print(\"Root-mean-square error = \" + str(rmse))"
   ]
  },
  {
   "cell_type": "code",
   "execution_count": 7,
   "metadata": {},
   "outputs": [],
   "source": [
    "# predictions.persist()\n",
    "# predictions.show(5)"
   ]
  },
  {
   "cell_type": "code",
   "execution_count": 12,
   "metadata": {},
   "outputs": [],
   "source": [
    "# final_requests = req_predict.drop('rating')\n",
    "# final_requests = final_requests.withColumnRenamed('prediction','rating')\n",
    "# final_requests.show(5)"
   ]
  },
  {
   "cell_type": "code",
   "execution_count": 13,
   "metadata": {},
   "outputs": [
    {
     "data": {
      "text/plain": [
       "DataFrame[_c0: string, _c2: string, _c4: string]"
      ]
     },
     "execution_count": 13,
     "metadata": {},
     "output_type": "execute_result"
    }
   ],
   "source": [
    "movie_titles = spark.read.csv('data/movies.dat', sep=\":\")\n",
    "movie_titles = movie_titles.drop('_c1','_c3')\n",
    "movie_titles.persist()\n",
    "#movie_titles.head()"
   ]
  },
  {
   "cell_type": "code",
   "execution_count": 14,
   "metadata": {},
   "outputs": [
    {
     "data": {
      "text/plain": [
       "DataFrame[_c0: string, _c2: string, _c4: string, _c6: string, _c8: string]"
      ]
     },
     "execution_count": 14,
     "metadata": {},
     "output_type": "execute_result"
    }
   ],
   "source": [
    "users = spark.read.csv('data/users.dat', sep=':')\n",
    "users = users.drop('_c1', '_c3', '_c5', '_c7')\n",
    "users.persist()\n",
    "#users.show(5)"
   ]
  },
  {
   "cell_type": "code",
   "execution_count": 15,
   "metadata": {},
   "outputs": [
    {
     "name": "stdout",
     "output_type": "stream",
     "text": [
      "+---+------+---------+----------+-------+\n",
      "| id|gender|age_group|occupation|zipcode|\n",
      "+---+------+---------+----------+-------+\n",
      "|  1|     F|        1|        10|  48067|\n",
      "|  2|     M|       56|        16|  70072|\n",
      "|  3|     M|       25|        15|  55117|\n",
      "|  4|     M|       45|         7|  02460|\n",
      "|  5|     M|       25|        20|  55455|\n",
      "+---+------+---------+----------+-------+\n",
      "only showing top 5 rows\n",
      "\n"
     ]
    }
   ],
   "source": [
    "#Changing column headers to reflect correct values\n",
    "\n",
    "old_cols = ['_c0','_c2','_c4', '_c6', '_c8']\n",
    "new_cols = ['id','gender','age_group','occupation','zipcode']\n",
    "\n",
    "def rename_cols(new_cols,old_cols,data):\n",
    "    for i in range(len(old_cols)):\n",
    "        data = data.withColumnRenamed(old_cols[i],new_cols[i])\n",
    "    return data\n",
    "\n",
    "users = rename_cols(new_cols,old_cols,users)\n",
    "users.show(5)"
   ]
  },
  {
   "cell_type": "code",
   "execution_count": 16,
   "metadata": {},
   "outputs": [
    {
     "name": "stdout",
     "output_type": "stream",
     "text": [
      "+---+--------------------+--------------------+\n",
      "| id|               title|               genre|\n",
      "+---+--------------------+--------------------+\n",
      "|  1|    Toy Story (1995)|Animation|Childre...|\n",
      "|  2|      Jumanji (1995)|Adventure|Childre...|\n",
      "|  3|Grumpier Old Men ...|      Comedy|Romance|\n",
      "|  4|Waiting to Exhale...|        Comedy|Drama|\n",
      "|  5|Father of the Bri...|              Comedy|\n",
      "+---+--------------------+--------------------+\n",
      "only showing top 5 rows\n",
      "\n"
     ]
    }
   ],
   "source": [
    "new = ['id','title','genre']\n",
    "old = ['_c0', '_c2','_c4']\n",
    "\n",
    "movie_titles = rename_cols(new,old,movie_titles)\n",
    "movie_titles.show(5)"
   ]
  },
  {
   "cell_type": "markdown",
   "metadata": {},
   "source": [
    "### Joining the users and movie titles Spark dataframes:"
   ]
  },
  {
   "cell_type": "code",
   "execution_count": 17,
   "metadata": {},
   "outputs": [
    {
     "data": {
      "text/plain": [
       "DataFrame[movie_id: bigint, rating: bigint, timestamp: double, user_id: bigint, title: string, genre: string, gender: string, age_group: string, occupation: string, zipcode: string]"
      ]
     },
     "execution_count": 17,
     "metadata": {},
     "output_type": "execute_result"
    }
   ],
   "source": [
    "fulldata = ratings.join(movie_titles, ratings.movie_id == movie_titles.id)\n",
    "fulldata = fulldata.join(users, fulldata.user_id == users.id)\n",
    "fulldata = fulldata.drop('id')\n",
    "fulldata = fulldata.dropna()\n",
    "fulldata.persist()\n",
    "#fulldata.show(5)"
   ]
  },
  {
   "cell_type": "code",
   "execution_count": 18,
   "metadata": {},
   "outputs": [],
   "source": [
    "newdata = fulldata[['rating','timestamp','genre','gender','age_group','occupation']]\n",
    "#newdata.show(5)"
   ]
  },
  {
   "cell_type": "markdown",
   "metadata": {},
   "source": [
    "## One Hot Encoding\n",
    "Used one hot encoding to categorize the genre, gender, age_group, and occupation columns. We needed to do this to create dummy variables for all categorical features."
   ]
  },
  {
   "cell_type": "code",
   "execution_count": 19,
   "metadata": {},
   "outputs": [],
   "source": [
    "onehot = OneHotEncoder()\n",
    "cols = ['genre','gender','age_group','occupation']\n",
    "to_encode = newdata[cols].toPandas()"
   ]
  },
  {
   "cell_type": "code",
   "execution_count": 20,
   "metadata": {},
   "outputs": [],
   "source": [
    "onehot.fit(to_encode)\n",
    "new_cols = onehot.get_feature_names(cols)\n",
    "ohe_data = onehot.transform(to_encode).toarray()"
   ]
  },
  {
   "cell_type": "code",
   "execution_count": 21,
   "metadata": {},
   "outputs": [
    {
     "data": {
      "text/html": [
       "<div>\n",
       "<style scoped>\n",
       "    .dataframe tbody tr th:only-of-type {\n",
       "        vertical-align: middle;\n",
       "    }\n",
       "\n",
       "    .dataframe tbody tr th {\n",
       "        vertical-align: top;\n",
       "    }\n",
       "\n",
       "    .dataframe thead th {\n",
       "        text-align: right;\n",
       "    }\n",
       "</style>\n",
       "<table border=\"1\" class=\"dataframe\">\n",
       "  <thead>\n",
       "    <tr style=\"text-align: right;\">\n",
       "      <th></th>\n",
       "      <th>timestamp</th>\n",
       "      <th>genre_ Miami Beach (1988)</th>\n",
       "      <th>genre_Action</th>\n",
       "      <th>genre_Action|Adventure</th>\n",
       "      <th>genre_Action|Adventure|Animation</th>\n",
       "      <th>genre_Action|Adventure|Animation|Children's|Fantasy</th>\n",
       "      <th>genre_Action|Adventure|Animation|Horror|Sci-Fi</th>\n",
       "      <th>genre_Action|Adventure|Children's|Comedy</th>\n",
       "      <th>genre_Action|Adventure|Children's|Fantasy</th>\n",
       "      <th>genre_Action|Adventure|Children's|Sci-Fi</th>\n",
       "      <th>...</th>\n",
       "      <th>occupation_19</th>\n",
       "      <th>occupation_2</th>\n",
       "      <th>occupation_20</th>\n",
       "      <th>occupation_3</th>\n",
       "      <th>occupation_4</th>\n",
       "      <th>occupation_5</th>\n",
       "      <th>occupation_6</th>\n",
       "      <th>occupation_7</th>\n",
       "      <th>occupation_8</th>\n",
       "      <th>occupation_9</th>\n",
       "    </tr>\n",
       "  </thead>\n",
       "  <tbody>\n",
       "    <tr>\n",
       "      <th>0</th>\n",
       "      <td>956678732.0</td>\n",
       "      <td>0.0</td>\n",
       "      <td>0.0</td>\n",
       "      <td>0.0</td>\n",
       "      <td>0.0</td>\n",
       "      <td>0.0</td>\n",
       "      <td>0.0</td>\n",
       "      <td>0.0</td>\n",
       "      <td>0.0</td>\n",
       "      <td>0.0</td>\n",
       "      <td>...</td>\n",
       "      <td>0.0</td>\n",
       "      <td>0.0</td>\n",
       "      <td>0.0</td>\n",
       "      <td>0.0</td>\n",
       "      <td>0.0</td>\n",
       "      <td>0.0</td>\n",
       "      <td>1.0</td>\n",
       "      <td>0.0</td>\n",
       "      <td>0.0</td>\n",
       "      <td>0.0</td>\n",
       "    </tr>\n",
       "    <tr>\n",
       "      <th>1</th>\n",
       "      <td>956678754.0</td>\n",
       "      <td>0.0</td>\n",
       "      <td>0.0</td>\n",
       "      <td>0.0</td>\n",
       "      <td>0.0</td>\n",
       "      <td>0.0</td>\n",
       "      <td>0.0</td>\n",
       "      <td>0.0</td>\n",
       "      <td>0.0</td>\n",
       "      <td>0.0</td>\n",
       "      <td>...</td>\n",
       "      <td>0.0</td>\n",
       "      <td>0.0</td>\n",
       "      <td>0.0</td>\n",
       "      <td>0.0</td>\n",
       "      <td>0.0</td>\n",
       "      <td>0.0</td>\n",
       "      <td>1.0</td>\n",
       "      <td>0.0</td>\n",
       "      <td>0.0</td>\n",
       "      <td>0.0</td>\n",
       "    </tr>\n",
       "    <tr>\n",
       "      <th>2</th>\n",
       "      <td>956678777.0</td>\n",
       "      <td>0.0</td>\n",
       "      <td>0.0</td>\n",
       "      <td>0.0</td>\n",
       "      <td>0.0</td>\n",
       "      <td>0.0</td>\n",
       "      <td>0.0</td>\n",
       "      <td>0.0</td>\n",
       "      <td>0.0</td>\n",
       "      <td>0.0</td>\n",
       "      <td>...</td>\n",
       "      <td>0.0</td>\n",
       "      <td>0.0</td>\n",
       "      <td>0.0</td>\n",
       "      <td>0.0</td>\n",
       "      <td>0.0</td>\n",
       "      <td>0.0</td>\n",
       "      <td>1.0</td>\n",
       "      <td>0.0</td>\n",
       "      <td>0.0</td>\n",
       "      <td>0.0</td>\n",
       "    </tr>\n",
       "    <tr>\n",
       "      <th>3</th>\n",
       "      <td>956678856.0</td>\n",
       "      <td>0.0</td>\n",
       "      <td>0.0</td>\n",
       "      <td>0.0</td>\n",
       "      <td>0.0</td>\n",
       "      <td>0.0</td>\n",
       "      <td>0.0</td>\n",
       "      <td>0.0</td>\n",
       "      <td>0.0</td>\n",
       "      <td>0.0</td>\n",
       "      <td>...</td>\n",
       "      <td>0.0</td>\n",
       "      <td>0.0</td>\n",
       "      <td>0.0</td>\n",
       "      <td>0.0</td>\n",
       "      <td>0.0</td>\n",
       "      <td>0.0</td>\n",
       "      <td>1.0</td>\n",
       "      <td>0.0</td>\n",
       "      <td>0.0</td>\n",
       "      <td>0.0</td>\n",
       "    </tr>\n",
       "    <tr>\n",
       "      <th>4</th>\n",
       "      <td>956678856.0</td>\n",
       "      <td>0.0</td>\n",
       "      <td>0.0</td>\n",
       "      <td>0.0</td>\n",
       "      <td>0.0</td>\n",
       "      <td>0.0</td>\n",
       "      <td>0.0</td>\n",
       "      <td>0.0</td>\n",
       "      <td>0.0</td>\n",
       "      <td>0.0</td>\n",
       "      <td>...</td>\n",
       "      <td>0.0</td>\n",
       "      <td>0.0</td>\n",
       "      <td>0.0</td>\n",
       "      <td>0.0</td>\n",
       "      <td>0.0</td>\n",
       "      <td>0.0</td>\n",
       "      <td>1.0</td>\n",
       "      <td>0.0</td>\n",
       "      <td>0.0</td>\n",
       "      <td>0.0</td>\n",
       "    </tr>\n",
       "  </tbody>\n",
       "</table>\n",
       "<p>5 rows × 325 columns</p>\n",
       "</div>"
      ],
      "text/plain": [
       "     timestamp  genre_ Miami Beach (1988)  genre_Action  \\\n",
       "0  956678732.0                        0.0           0.0   \n",
       "1  956678754.0                        0.0           0.0   \n",
       "2  956678777.0                        0.0           0.0   \n",
       "3  956678856.0                        0.0           0.0   \n",
       "4  956678856.0                        0.0           0.0   \n",
       "\n",
       "   genre_Action|Adventure  genre_Action|Adventure|Animation  \\\n",
       "0                     0.0                               0.0   \n",
       "1                     0.0                               0.0   \n",
       "2                     0.0                               0.0   \n",
       "3                     0.0                               0.0   \n",
       "4                     0.0                               0.0   \n",
       "\n",
       "   genre_Action|Adventure|Animation|Children's|Fantasy  \\\n",
       "0                                                0.0     \n",
       "1                                                0.0     \n",
       "2                                                0.0     \n",
       "3                                                0.0     \n",
       "4                                                0.0     \n",
       "\n",
       "   genre_Action|Adventure|Animation|Horror|Sci-Fi  \\\n",
       "0                                             0.0   \n",
       "1                                             0.0   \n",
       "2                                             0.0   \n",
       "3                                             0.0   \n",
       "4                                             0.0   \n",
       "\n",
       "   genre_Action|Adventure|Children's|Comedy  \\\n",
       "0                                       0.0   \n",
       "1                                       0.0   \n",
       "2                                       0.0   \n",
       "3                                       0.0   \n",
       "4                                       0.0   \n",
       "\n",
       "   genre_Action|Adventure|Children's|Fantasy  \\\n",
       "0                                        0.0   \n",
       "1                                        0.0   \n",
       "2                                        0.0   \n",
       "3                                        0.0   \n",
       "4                                        0.0   \n",
       "\n",
       "   genre_Action|Adventure|Children's|Sci-Fi      ...       occupation_19  \\\n",
       "0                                       0.0      ...                 0.0   \n",
       "1                                       0.0      ...                 0.0   \n",
       "2                                       0.0      ...                 0.0   \n",
       "3                                       0.0      ...                 0.0   \n",
       "4                                       0.0      ...                 0.0   \n",
       "\n",
       "   occupation_2  occupation_20  occupation_3  occupation_4  occupation_5  \\\n",
       "0           0.0            0.0           0.0           0.0           0.0   \n",
       "1           0.0            0.0           0.0           0.0           0.0   \n",
       "2           0.0            0.0           0.0           0.0           0.0   \n",
       "3           0.0            0.0           0.0           0.0           0.0   \n",
       "4           0.0            0.0           0.0           0.0           0.0   \n",
       "\n",
       "   occupation_6  occupation_7  occupation_8  occupation_9  \n",
       "0           1.0           0.0           0.0           0.0  \n",
       "1           1.0           0.0           0.0           0.0  \n",
       "2           1.0           0.0           0.0           0.0  \n",
       "3           1.0           0.0           0.0           0.0  \n",
       "4           1.0           0.0           0.0           0.0  \n",
       "\n",
       "[5 rows x 325 columns]"
      ]
     },
     "execution_count": 21,
     "metadata": {},
     "output_type": "execute_result"
    }
   ],
   "source": [
    "col_names = ['timestamp'] + list(new_cols)  #Timestamp did not need to be one hot encoded.\n",
    "ohe_data = np.concatenate((newdata[['timestamp']].toPandas(),ohe_data),axis=1)\n",
    "X = pd.DataFrame(ohe_data,columns=col_names)\n",
    "X.head()"
   ]
  },
  {
   "cell_type": "code",
   "execution_count": 22,
   "metadata": {},
   "outputs": [],
   "source": [
    "from sklearn.model_selection import train_test_split"
   ]
  },
  {
   "cell_type": "code",
   "execution_count": 23,
   "metadata": {},
   "outputs": [
    {
     "data": {
      "text/plain": [
       "(673236,)"
      ]
     },
     "execution_count": 23,
     "metadata": {},
     "output_type": "execute_result"
    }
   ],
   "source": [
    "y = newdata[['rating']].toPandas()\n",
    "y = y['rating']\n",
    "y.shape"
   ]
  },
  {
   "cell_type": "code",
   "execution_count": 24,
   "metadata": {},
   "outputs": [],
   "source": [
    "X_train, X_test, y_train, y_test = train_test_split(X,y,random_state=123)\n",
    "\n",
    "# ss = StandardScaler()\n",
    "# ss.fit(X_train)\n",
    "# X_train_s = ss.transform(X_train)\n",
    "# X_test_s = ss.transform(X_test)"
   ]
  },
  {
   "cell_type": "markdown",
   "metadata": {},
   "source": [
    "## K-Nearest Neighbors Regressor"
   ]
  },
  {
   "cell_type": "code",
   "execution_count": 25,
   "metadata": {},
   "outputs": [],
   "source": [
    "from sklearn.neighbors import KNeighborsRegressor\n",
    "clf = KNeighborsRegressor()\n",
    "from sklearn.metrics import precision_score, recall_score, accuracy_score, f1_score\n",
    "from sklearn.model_selection import cross_val_score"
   ]
  },
  {
   "cell_type": "code",
   "execution_count": 27,
   "metadata": {},
   "outputs": [
    {
     "name": "stdout",
     "output_type": "stream",
     "text": [
      "[4.  3.8 3.6 ... 4.4 5.  3. ]\n"
     ]
    }
   ],
   "source": [
    "clf.fit(X_train, y_train)\n",
    "# test_preds = clf.predict(X_test)\n",
    "print(test_preds)"
   ]
  },
  {
   "cell_type": "code",
   "execution_count": 28,
   "metadata": {},
   "outputs": [
    {
     "data": {
      "text/plain": [
       "0.03743528613249869"
      ]
     },
     "execution_count": 28,
     "metadata": {},
     "output_type": "execute_result"
    }
   ],
   "source": [
    "clf.score(X_test, y_test)"
   ]
  },
  {
   "cell_type": "markdown",
   "metadata": {},
   "source": [
    "## Random Forest Regressor"
   ]
  },
  {
   "cell_type": "code",
   "execution_count": 29,
   "metadata": {},
   "outputs": [],
   "source": [
    "from sklearn.ensemble import RandomForestRegressor"
   ]
  },
  {
   "cell_type": "code",
   "execution_count": 31,
   "metadata": {},
   "outputs": [
    {
     "data": {
      "text/plain": [
       "0.01623083263998848"
      ]
     },
     "execution_count": 31,
     "metadata": {},
     "output_type": "execute_result"
    }
   ],
   "source": [
    "forest = RandomForestRegressor(n_estimators=5, max_depth= 5)\n",
    "forest.fit(X_train, y_train)\n",
    "\n",
    "forest.score(X_test, y_test)"
   ]
  },
  {
   "cell_type": "markdown",
   "metadata": {},
   "source": [
    "#### Based on our analysis of KNN Regressor and Random Forest Regressor, our KNN had a higher score which we used as the final model to predict the ratings in the request.json file."
   ]
  },
  {
   "cell_type": "markdown",
   "metadata": {},
   "source": [
    "### Formatting the request.json file to make our predictions"
   ]
  },
  {
   "cell_type": "code",
   "execution_count": 36,
   "metadata": {},
   "outputs": [
    {
     "data": {
      "text/plain": [
       "[('movie_id', 'bigint'),\n",
       " ('rating', 'double'),\n",
       " ('timestamp', 'double'),\n",
       " ('user_id', 'bigint')]"
      ]
     },
     "execution_count": 36,
     "metadata": {},
     "output_type": "execute_result"
    }
   ],
   "source": [
    "requests = spark.read.json('data/requests.json')\n",
    "requests.dtypes"
   ]
  },
  {
   "cell_type": "code",
   "execution_count": 32,
   "metadata": {},
   "outputs": [
    {
     "data": {
      "text/html": [
       "<div>\n",
       "<style scoped>\n",
       "    .dataframe tbody tr th:only-of-type {\n",
       "        vertical-align: middle;\n",
       "    }\n",
       "\n",
       "    .dataframe tbody tr th {\n",
       "        vertical-align: top;\n",
       "    }\n",
       "\n",
       "    .dataframe thead th {\n",
       "        text-align: right;\n",
       "    }\n",
       "</style>\n",
       "<table border=\"1\" class=\"dataframe\">\n",
       "  <thead>\n",
       "    <tr style=\"text-align: right;\">\n",
       "      <th></th>\n",
       "      <th>movie_id</th>\n",
       "      <th>rating</th>\n",
       "      <th>timestamp</th>\n",
       "      <th>user_id</th>\n",
       "      <th>title</th>\n",
       "      <th>genre</th>\n",
       "      <th>gender</th>\n",
       "      <th>age_group</th>\n",
       "      <th>occupation</th>\n",
       "      <th>zipcode</th>\n",
       "    </tr>\n",
       "  </thead>\n",
       "  <tbody>\n",
       "    <tr>\n",
       "      <th>0</th>\n",
       "      <td>2019</td>\n",
       "      <td>NaN</td>\n",
       "      <td>956678777.0</td>\n",
       "      <td>6040</td>\n",
       "      <td>Seven Samurai (The Magnificent Seven) (Shichin...</td>\n",
       "      <td>Action|Drama</td>\n",
       "      <td>M</td>\n",
       "      <td>25</td>\n",
       "      <td>6</td>\n",
       "      <td>11106</td>\n",
       "    </tr>\n",
       "    <tr>\n",
       "      <th>2</th>\n",
       "      <td>2858</td>\n",
       "      <td>NaN</td>\n",
       "      <td>956679275.0</td>\n",
       "      <td>6040</td>\n",
       "      <td>American Beauty (1999)</td>\n",
       "      <td>Comedy|Drama</td>\n",
       "      <td>M</td>\n",
       "      <td>25</td>\n",
       "      <td>6</td>\n",
       "      <td>11106</td>\n",
       "    </tr>\n",
       "    <tr>\n",
       "      <th>3</th>\n",
       "      <td>246</td>\n",
       "      <td>NaN</td>\n",
       "      <td>956679413.0</td>\n",
       "      <td>6040</td>\n",
       "      <td>Hoop Dreams (1994)</td>\n",
       "      <td>Documentary</td>\n",
       "      <td>M</td>\n",
       "      <td>25</td>\n",
       "      <td>6</td>\n",
       "      <td>11106</td>\n",
       "    </tr>\n",
       "    <tr>\n",
       "      <th>4</th>\n",
       "      <td>1617</td>\n",
       "      <td>NaN</td>\n",
       "      <td>956679473.0</td>\n",
       "      <td>6040</td>\n",
       "      <td>L.A. Confidential (1997)</td>\n",
       "      <td>Crime|Film-Noir|Mystery|Thriller</td>\n",
       "      <td>M</td>\n",
       "      <td>25</td>\n",
       "      <td>6</td>\n",
       "      <td>11106</td>\n",
       "    </tr>\n",
       "    <tr>\n",
       "      <th>5</th>\n",
       "      <td>2324</td>\n",
       "      <td>NaN</td>\n",
       "      <td>956679629.0</td>\n",
       "      <td>6040</td>\n",
       "      <td>Life Is Beautiful (La Vita � bella) (1997)</td>\n",
       "      <td>Comedy|Drama</td>\n",
       "      <td>M</td>\n",
       "      <td>25</td>\n",
       "      <td>6</td>\n",
       "      <td>11106</td>\n",
       "    </tr>\n",
       "  </tbody>\n",
       "</table>\n",
       "</div>"
      ],
      "text/plain": [
       "   movie_id  rating    timestamp  user_id  \\\n",
       "0      2019     NaN  956678777.0     6040   \n",
       "2      2858     NaN  956679275.0     6040   \n",
       "3       246     NaN  956679413.0     6040   \n",
       "4      1617     NaN  956679473.0     6040   \n",
       "5      2324     NaN  956679629.0     6040   \n",
       "\n",
       "                                               title  \\\n",
       "0  Seven Samurai (The Magnificent Seven) (Shichin...   \n",
       "2                             American Beauty (1999)   \n",
       "3                                 Hoop Dreams (1994)   \n",
       "4                           L.A. Confidential (1997)   \n",
       "5         Life Is Beautiful (La Vita � bella) (1997)   \n",
       "\n",
       "                              genre gender age_group occupation zipcode  \n",
       "0                      Action|Drama      M        25          6   11106  \n",
       "2                      Comedy|Drama      M        25          6   11106  \n",
       "3                       Documentary      M        25          6   11106  \n",
       "4  Crime|Film-Noir|Mystery|Thriller      M        25          6   11106  \n",
       "5                      Comedy|Drama      M        25          6   11106  "
      ]
     },
     "execution_count": 32,
     "metadata": {},
     "output_type": "execute_result"
    }
   ],
   "source": [
    "fullreqs = requests.join(movie_titles, requests.movie_id == movie_titles.id)\n",
    "fullreqs = fullreqs.join(users, fullreqs.user_id == users.id)\n",
    "fullreqs = fullreqs.drop('id')\n",
    "#fullreqs = fullreqs.dropna()\n",
    "df_fullreqs = fullreqs.toPandas()\n",
    "df_fullreqs = df_fullreqs[~df_fullreqs['genre'].isna()]\n",
    "#fullreqs.persist()\n",
    "df_fullreqs.head()"
   ]
  },
  {
   "cell_type": "code",
   "execution_count": 33,
   "metadata": {},
   "outputs": [
    {
     "data": {
      "text/html": [
       "<div>\n",
       "<style scoped>\n",
       "    .dataframe tbody tr th:only-of-type {\n",
       "        vertical-align: middle;\n",
       "    }\n",
       "\n",
       "    .dataframe tbody tr th {\n",
       "        vertical-align: top;\n",
       "    }\n",
       "\n",
       "    .dataframe thead th {\n",
       "        text-align: right;\n",
       "    }\n",
       "</style>\n",
       "<table border=\"1\" class=\"dataframe\">\n",
       "  <thead>\n",
       "    <tr style=\"text-align: right;\">\n",
       "      <th></th>\n",
       "      <th>timestamp</th>\n",
       "      <th>genre_ Miami Beach (1988)</th>\n",
       "      <th>genre_Action</th>\n",
       "      <th>genre_Action|Adventure</th>\n",
       "      <th>genre_Action|Adventure|Animation</th>\n",
       "      <th>genre_Action|Adventure|Animation|Children's|Fantasy</th>\n",
       "      <th>genre_Action|Adventure|Animation|Horror|Sci-Fi</th>\n",
       "      <th>genre_Action|Adventure|Children's|Comedy</th>\n",
       "      <th>genre_Action|Adventure|Children's|Fantasy</th>\n",
       "      <th>genre_Action|Adventure|Children's|Sci-Fi</th>\n",
       "      <th>...</th>\n",
       "      <th>occupation_19</th>\n",
       "      <th>occupation_2</th>\n",
       "      <th>occupation_20</th>\n",
       "      <th>occupation_3</th>\n",
       "      <th>occupation_4</th>\n",
       "      <th>occupation_5</th>\n",
       "      <th>occupation_6</th>\n",
       "      <th>occupation_7</th>\n",
       "      <th>occupation_8</th>\n",
       "      <th>occupation_9</th>\n",
       "    </tr>\n",
       "  </thead>\n",
       "  <tbody>\n",
       "    <tr>\n",
       "      <th>0</th>\n",
       "      <td>956678777.0</td>\n",
       "      <td>0.0</td>\n",
       "      <td>0.0</td>\n",
       "      <td>0.0</td>\n",
       "      <td>0.0</td>\n",
       "      <td>0.0</td>\n",
       "      <td>0.0</td>\n",
       "      <td>0.0</td>\n",
       "      <td>0.0</td>\n",
       "      <td>0.0</td>\n",
       "      <td>...</td>\n",
       "      <td>0.0</td>\n",
       "      <td>0.0</td>\n",
       "      <td>0.0</td>\n",
       "      <td>0.0</td>\n",
       "      <td>0.0</td>\n",
       "      <td>0.0</td>\n",
       "      <td>1.0</td>\n",
       "      <td>0.0</td>\n",
       "      <td>0.0</td>\n",
       "      <td>0.0</td>\n",
       "    </tr>\n",
       "    <tr>\n",
       "      <th>1</th>\n",
       "      <td>956679275.0</td>\n",
       "      <td>0.0</td>\n",
       "      <td>0.0</td>\n",
       "      <td>0.0</td>\n",
       "      <td>0.0</td>\n",
       "      <td>0.0</td>\n",
       "      <td>0.0</td>\n",
       "      <td>0.0</td>\n",
       "      <td>0.0</td>\n",
       "      <td>0.0</td>\n",
       "      <td>...</td>\n",
       "      <td>0.0</td>\n",
       "      <td>0.0</td>\n",
       "      <td>0.0</td>\n",
       "      <td>0.0</td>\n",
       "      <td>0.0</td>\n",
       "      <td>0.0</td>\n",
       "      <td>1.0</td>\n",
       "      <td>0.0</td>\n",
       "      <td>0.0</td>\n",
       "      <td>0.0</td>\n",
       "    </tr>\n",
       "    <tr>\n",
       "      <th>2</th>\n",
       "      <td>956679413.0</td>\n",
       "      <td>0.0</td>\n",
       "      <td>0.0</td>\n",
       "      <td>0.0</td>\n",
       "      <td>0.0</td>\n",
       "      <td>0.0</td>\n",
       "      <td>0.0</td>\n",
       "      <td>0.0</td>\n",
       "      <td>0.0</td>\n",
       "      <td>0.0</td>\n",
       "      <td>...</td>\n",
       "      <td>0.0</td>\n",
       "      <td>0.0</td>\n",
       "      <td>0.0</td>\n",
       "      <td>0.0</td>\n",
       "      <td>0.0</td>\n",
       "      <td>0.0</td>\n",
       "      <td>1.0</td>\n",
       "      <td>0.0</td>\n",
       "      <td>0.0</td>\n",
       "      <td>0.0</td>\n",
       "    </tr>\n",
       "    <tr>\n",
       "      <th>3</th>\n",
       "      <td>956679473.0</td>\n",
       "      <td>0.0</td>\n",
       "      <td>0.0</td>\n",
       "      <td>0.0</td>\n",
       "      <td>0.0</td>\n",
       "      <td>0.0</td>\n",
       "      <td>0.0</td>\n",
       "      <td>0.0</td>\n",
       "      <td>0.0</td>\n",
       "      <td>0.0</td>\n",
       "      <td>...</td>\n",
       "      <td>0.0</td>\n",
       "      <td>0.0</td>\n",
       "      <td>0.0</td>\n",
       "      <td>0.0</td>\n",
       "      <td>0.0</td>\n",
       "      <td>0.0</td>\n",
       "      <td>1.0</td>\n",
       "      <td>0.0</td>\n",
       "      <td>0.0</td>\n",
       "      <td>0.0</td>\n",
       "    </tr>\n",
       "    <tr>\n",
       "      <th>4</th>\n",
       "      <td>956679629.0</td>\n",
       "      <td>0.0</td>\n",
       "      <td>0.0</td>\n",
       "      <td>0.0</td>\n",
       "      <td>0.0</td>\n",
       "      <td>0.0</td>\n",
       "      <td>0.0</td>\n",
       "      <td>0.0</td>\n",
       "      <td>0.0</td>\n",
       "      <td>0.0</td>\n",
       "      <td>...</td>\n",
       "      <td>0.0</td>\n",
       "      <td>0.0</td>\n",
       "      <td>0.0</td>\n",
       "      <td>0.0</td>\n",
       "      <td>0.0</td>\n",
       "      <td>0.0</td>\n",
       "      <td>1.0</td>\n",
       "      <td>0.0</td>\n",
       "      <td>0.0</td>\n",
       "      <td>0.0</td>\n",
       "    </tr>\n",
       "  </tbody>\n",
       "</table>\n",
       "<p>5 rows × 325 columns</p>\n",
       "</div>"
      ],
      "text/plain": [
       "     timestamp  genre_ Miami Beach (1988)  genre_Action  \\\n",
       "0  956678777.0                        0.0           0.0   \n",
       "1  956679275.0                        0.0           0.0   \n",
       "2  956679413.0                        0.0           0.0   \n",
       "3  956679473.0                        0.0           0.0   \n",
       "4  956679629.0                        0.0           0.0   \n",
       "\n",
       "   genre_Action|Adventure  genre_Action|Adventure|Animation  \\\n",
       "0                     0.0                               0.0   \n",
       "1                     0.0                               0.0   \n",
       "2                     0.0                               0.0   \n",
       "3                     0.0                               0.0   \n",
       "4                     0.0                               0.0   \n",
       "\n",
       "   genre_Action|Adventure|Animation|Children's|Fantasy  \\\n",
       "0                                                0.0     \n",
       "1                                                0.0     \n",
       "2                                                0.0     \n",
       "3                                                0.0     \n",
       "4                                                0.0     \n",
       "\n",
       "   genre_Action|Adventure|Animation|Horror|Sci-Fi  \\\n",
       "0                                             0.0   \n",
       "1                                             0.0   \n",
       "2                                             0.0   \n",
       "3                                             0.0   \n",
       "4                                             0.0   \n",
       "\n",
       "   genre_Action|Adventure|Children's|Comedy  \\\n",
       "0                                       0.0   \n",
       "1                                       0.0   \n",
       "2                                       0.0   \n",
       "3                                       0.0   \n",
       "4                                       0.0   \n",
       "\n",
       "   genre_Action|Adventure|Children's|Fantasy  \\\n",
       "0                                        0.0   \n",
       "1                                        0.0   \n",
       "2                                        0.0   \n",
       "3                                        0.0   \n",
       "4                                        0.0   \n",
       "\n",
       "   genre_Action|Adventure|Children's|Sci-Fi      ...       occupation_19  \\\n",
       "0                                       0.0      ...                 0.0   \n",
       "1                                       0.0      ...                 0.0   \n",
       "2                                       0.0      ...                 0.0   \n",
       "3                                       0.0      ...                 0.0   \n",
       "4                                       0.0      ...                 0.0   \n",
       "\n",
       "   occupation_2  occupation_20  occupation_3  occupation_4  occupation_5  \\\n",
       "0           0.0            0.0           0.0           0.0           0.0   \n",
       "1           0.0            0.0           0.0           0.0           0.0   \n",
       "2           0.0            0.0           0.0           0.0           0.0   \n",
       "3           0.0            0.0           0.0           0.0           0.0   \n",
       "4           0.0            0.0           0.0           0.0           0.0   \n",
       "\n",
       "   occupation_6  occupation_7  occupation_8  occupation_9  \n",
       "0           1.0           0.0           0.0           0.0  \n",
       "1           1.0           0.0           0.0           0.0  \n",
       "2           1.0           0.0           0.0           0.0  \n",
       "3           1.0           0.0           0.0           0.0  \n",
       "4           1.0           0.0           0.0           0.0  \n",
       "\n",
       "[5 rows x 325 columns]"
      ]
     },
     "execution_count": 33,
     "metadata": {},
     "output_type": "execute_result"
    }
   ],
   "source": [
    "enc_reqs = df_fullreqs[cols]\n",
    "\n",
    "ohe_data = onehot.transform(enc_reqs).toarray()\n",
    "new_cols = onehot.get_feature_names(cols)\n",
    "col_names = ['timestamp'] + list(new_cols)\n",
    "ohe_data = np.concatenate((df_fullreqs[['timestamp']],ohe_data),axis=1)\n",
    "X_rf = pd.DataFrame(ohe_data,columns=col_names)\n",
    "X_rf.head()"
   ]
  },
  {
   "cell_type": "code",
   "execution_count": 37,
   "metadata": {},
   "outputs": [
    {
     "data": {
      "text/html": [
       "<div>\n",
       "<style scoped>\n",
       "    .dataframe tbody tr th:only-of-type {\n",
       "        vertical-align: middle;\n",
       "    }\n",
       "\n",
       "    .dataframe tbody tr th {\n",
       "        vertical-align: top;\n",
       "    }\n",
       "\n",
       "    .dataframe thead th {\n",
       "        text-align: right;\n",
       "    }\n",
       "</style>\n",
       "<table border=\"1\" class=\"dataframe\">\n",
       "  <thead>\n",
       "    <tr style=\"text-align: right;\">\n",
       "      <th></th>\n",
       "      <th>movie_id</th>\n",
       "      <th>rating</th>\n",
       "      <th>timestamp</th>\n",
       "      <th>user_id</th>\n",
       "    </tr>\n",
       "  </thead>\n",
       "  <tbody>\n",
       "    <tr>\n",
       "      <th>0</th>\n",
       "      <td>2019</td>\n",
       "      <td>4.0</td>\n",
       "      <td>956678777.0</td>\n",
       "      <td>6040</td>\n",
       "    </tr>\n",
       "    <tr>\n",
       "      <th>2</th>\n",
       "      <td>2858</td>\n",
       "      <td>4.2</td>\n",
       "      <td>956679275.0</td>\n",
       "      <td>6040</td>\n",
       "    </tr>\n",
       "    <tr>\n",
       "      <th>3</th>\n",
       "      <td>246</td>\n",
       "      <td>4.2</td>\n",
       "      <td>956679413.0</td>\n",
       "      <td>6040</td>\n",
       "    </tr>\n",
       "    <tr>\n",
       "      <th>4</th>\n",
       "      <td>1617</td>\n",
       "      <td>4.0</td>\n",
       "      <td>956679473.0</td>\n",
       "      <td>6040</td>\n",
       "    </tr>\n",
       "    <tr>\n",
       "      <th>5</th>\n",
       "      <td>2324</td>\n",
       "      <td>3.2</td>\n",
       "      <td>956679629.0</td>\n",
       "      <td>6040</td>\n",
       "    </tr>\n",
       "  </tbody>\n",
       "</table>\n",
       "</div>"
      ],
      "text/plain": [
       "   movie_id  rating    timestamp  user_id\n",
       "0      2019     4.0  956678777.0     6040\n",
       "2      2858     4.2  956679275.0     6040\n",
       "3       246     4.2  956679413.0     6040\n",
       "4      1617     4.0  956679473.0     6040\n",
       "5      2324     3.2  956679629.0     6040"
      ]
     },
     "execution_count": 37,
     "metadata": {},
     "output_type": "execute_result"
    }
   ],
   "source": [
    "#X_scaled = ss.transform(X)\n",
    "preds = clf.predict(X_rf)\n",
    "requests = requests.toPandas()\n",
    "requests = requests[~fullreqs.toPandas()['genre'].isna()]\n",
    "requests['rating'] = preds\n",
    "requests.head()"
   ]
  },
  {
   "cell_type": "code",
   "execution_count": null,
   "metadata": {},
   "outputs": [],
   "source": []
  }
 ],
 "metadata": {
  "kernelspec": {
   "display_name": "Python 3",
   "language": "python",
   "name": "python3"
  },
  "language_info": {
   "codemirror_mode": {
    "name": "ipython",
    "version": 3
   },
   "file_extension": ".py",
   "mimetype": "text/x-python",
   "name": "python",
   "nbconvert_exporter": "python",
   "pygments_lexer": "ipython3",
   "version": "3.7.1"
  }
 },
 "nbformat": 4,
 "nbformat_minor": 2
}
